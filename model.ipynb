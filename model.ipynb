{
 "cells": [
  {
   "cell_type": "markdown",
   "metadata": {},
   "source": [
    "### 라이브러리 설치"
   ]
  },
  {
   "cell_type": "code",
   "execution_count": 6,
   "metadata": {},
   "outputs": [
    {
     "name": "stdout",
     "output_type": "stream",
     "text": [
      "Requirement already satisfied: librosa in c:\\users\\honghyein\\anaconda3\\lib\\site-packages (0.8.0)\n",
      "Requirement already satisfied: audioread>=2.0.0 in c:\\users\\honghyein\\anaconda3\\lib\\site-packages (from librosa) (2.1.9)\n",
      "Requirement already satisfied: joblib>=0.14 in c:\\users\\honghyein\\anaconda3\\lib\\site-packages (from librosa) (0.14.1)\n",
      "Requirement already satisfied: scikit-learn!=0.19.0,>=0.14.0 in c:\\users\\honghyein\\anaconda3\\lib\\site-packages (from librosa) (0.22.1)\n",
      "Requirement already satisfied: numpy>=1.15.0 in c:\\users\\honghyein\\anaconda3\\lib\\site-packages (from librosa) (1.17.0)\n",
      "Requirement already satisfied: soundfile>=0.9.0 in c:\\users\\honghyein\\anaconda3\\lib\\site-packages (from librosa) (0.10.3.post1)\n",
      "Requirement already satisfied: scipy>=1.0.0 in c:\\users\\honghyein\\anaconda3\\lib\\site-packages (from librosa) (1.4.1)\n",
      "Requirement already satisfied: decorator>=3.0.0 in c:\\users\\honghyein\\anaconda3\\lib\\site-packages (from librosa) (4.4.1)\n",
      "Requirement already satisfied: numba>=0.43.0 in c:\\users\\honghyein\\anaconda3\\lib\\site-packages (from librosa) (0.48.0)\n",
      "Requirement already satisfied: resampy>=0.2.2 in c:\\users\\honghyein\\anaconda3\\lib\\site-packages (from librosa) (0.2.2)\n",
      "Requirement already satisfied: pooch>=1.0 in c:\\users\\honghyein\\anaconda3\\lib\\site-packages (from librosa) (1.2.0)\n",
      "Requirement already satisfied: cffi>=1.0 in c:\\users\\honghyein\\anaconda3\\lib\\site-packages (from soundfile>=0.9.0->librosa) (1.14.0)\n",
      "Requirement already satisfied: llvmlite<0.32.0,>=0.31.0dev0 in c:\\users\\honghyein\\anaconda3\\lib\\site-packages (from numba>=0.43.0->librosa) (0.31.0)\n",
      "Requirement already satisfied: setuptools in c:\\users\\honghyein\\anaconda3\\lib\\site-packages (from numba>=0.43.0->librosa) (46.4.0)\n",
      "Requirement already satisfied: six>=1.3 in c:\\users\\honghyein\\anaconda3\\lib\\site-packages (from resampy>=0.2.2->librosa) (1.15.0)\n",
      "Requirement already satisfied: packaging in c:\\users\\honghyein\\anaconda3\\lib\\site-packages (from pooch>=1.0->librosa) (20.1)\n",
      "Requirement already satisfied: appdirs in c:\\users\\honghyein\\anaconda3\\lib\\site-packages (from pooch>=1.0->librosa) (1.4.4)\n",
      "Requirement already satisfied: requests in c:\\users\\honghyein\\anaconda3\\lib\\site-packages (from pooch>=1.0->librosa) (2.23.0)\n",
      "Requirement already satisfied: pycparser in c:\\users\\honghyein\\anaconda3\\lib\\site-packages (from cffi>=1.0->soundfile>=0.9.0->librosa) (2.19)\n",
      "Requirement already satisfied: pyparsing>=2.0.2 in c:\\users\\honghyein\\anaconda3\\lib\\site-packages (from packaging->pooch>=1.0->librosa) (2.4.6)\n",
      "Requirement already satisfied: urllib3!=1.25.0,!=1.25.1,<1.26,>=1.21.1 in c:\\users\\honghyein\\anaconda3\\lib\\site-packages (from requests->pooch>=1.0->librosa) (1.25.9)\n",
      "Requirement already satisfied: idna<3,>=2.5 in c:\\users\\honghyein\\anaconda3\\lib\\site-packages (from requests->pooch>=1.0->librosa) (2.9)\n",
      "Requirement already satisfied: chardet<4,>=3.0.2 in c:\\users\\honghyein\\anaconda3\\lib\\site-packages (from requests->pooch>=1.0->librosa) (3.0.4)\n",
      "Requirement already satisfied: certifi>=2017.4.17 in c:\\users\\honghyein\\anaconda3\\lib\\site-packages (from requests->pooch>=1.0->librosa) (2020.4.5.1)\n",
      "Note: you may need to restart the kernel to use updated packages.\n"
     ]
    }
   ],
   "source": [
    "pip install librosa"
   ]
  },
  {
   "cell_type": "code",
   "execution_count": 7,
   "metadata": {},
   "outputs": [
    {
     "name": "stdout",
     "output_type": "stream",
     "text": [
      "Requirement already satisfied: imutils in c:\\users\\honghyein\\anaconda3\\lib\\site-packages (0.5.3)\n",
      "Note: you may need to restart the kernel to use updated packages.\n"
     ]
    }
   ],
   "source": [
    "pip install imutils"
   ]
  },
  {
   "cell_type": "code",
   "execution_count": 8,
   "metadata": {},
   "outputs": [
    {
     "name": "stdout",
     "output_type": "stream",
     "text": [
      "Requirement already satisfied: opencv-python in c:\\users\\honghyein\\anaconda3\\lib\\site-packages (4.4.0.46)\n",
      "Requirement already satisfied: numpy>=1.14.5 in c:\\users\\honghyein\\anaconda3\\lib\\site-packages (from opencv-python) (1.17.0)\n",
      "Note: you may need to restart the kernel to use updated packages.\n"
     ]
    }
   ],
   "source": [
    "pip install opencv-python"
   ]
  },
  {
   "cell_type": "code",
   "execution_count": 17,
   "metadata": {},
   "outputs": [
    {
     "name": "stdout",
     "output_type": "stream",
     "text": [
      "Requirement already satisfied: sklearn in c:\\users\\honghyein\\anaconda3\\lib\\site-packages (0.0)\n",
      "Requirement already satisfied: scikit-learn in c:\\users\\honghyein\\anaconda3\\lib\\site-packages (from sklearn) (0.22.1)\n",
      "Requirement already satisfied: scipy>=0.17.0 in c:\\users\\honghyein\\anaconda3\\lib\\site-packages (from scikit-learn->sklearn) (1.4.1)\n",
      "Requirement already satisfied: joblib>=0.11 in c:\\users\\honghyein\\anaconda3\\lib\\site-packages (from scikit-learn->sklearn) (0.14.1)\n",
      "Requirement already satisfied: numpy>=1.11.0 in c:\\users\\honghyein\\anaconda3\\lib\\site-packages (from scikit-learn->sklearn) (1.17.0)\n",
      "Note: you may need to restart the kernel to use updated packages.\n"
     ]
    }
   ],
   "source": [
    "pip install sklearn"
   ]
  },
  {
   "cell_type": "markdown",
   "metadata": {},
   "source": [
    "### 라이브러리 import"
   ]
  },
  {
   "cell_type": "code",
   "execution_count": 1,
   "metadata": {},
   "outputs": [
    {
     "name": "stderr",
     "output_type": "stream",
     "text": [
      "C:\\Users\\HONGHYEIN\\Anaconda3\\lib\\site-packages\\sklearn\\externals\\joblib\\__init__.py:15: FutureWarning: sklearn.externals.joblib is deprecated in 0.21 and will be removed in 0.23. Please import this functionality directly from joblib, which can be installed with: pip install joblib. If this warning is raised when loading pickled models, you may need to re-serialize those models with scikit-learn 0.21+.\n",
      "  warnings.warn(msg, category=FutureWarning)\n"
     ]
    }
   ],
   "source": [
    "from sklearn.model_selection import train_test_split \n",
    "from sklearn.model_selection import GridSearchCV\n",
    "from sklearn.mixture import GaussianMixture\n",
    "from sklearn.metrics import accuracy_score\n",
    "from sklearn.externals import joblib\n",
    "from sklearn.svm import SVC\n",
    "from imutils import paths\n",
    "\n",
    "import matplotlib.pyplot as plt\n",
    "import soundfile as sf\n",
    "import librosa\n",
    "import wave, array\n",
    "import numpy as np\n",
    "import pickle\n",
    "import sys\n",
    "import os\n",
    "\n",
    "import warnings\n",
    "warnings.filterwarnings('ignore')"
   ]
  },
  {
   "cell_type": "markdown",
   "metadata": {},
   "source": [
    "### 코딩 시작"
   ]
  },
  {
   "cell_type": "code",
   "execution_count": 2,
   "metadata": {},
   "outputs": [],
   "source": [
    "# 음성 파일 및 음성 파일 이름 불러오기\n",
    "folder = '1초로 나눈 음성 파일이 저장된 폴더 경로'\n",
    "files = paths.list_files(folder)\n",
    "\n",
    "dataset = []\n",
    "label = []\n",
    "\n",
    "for i in files:\n",
    "    y, sr = librosa.load(i, sr = 16000)\n",
    "    dataset.append([y, sr])\n",
    "    label.append((os.path.basename(i)).split('_')[1])"
   ]
  },
  {
   "cell_type": "code",
   "execution_count": 3,
   "metadata": {},
   "outputs": [],
   "source": [
    "# mfcc 사용하여 음성 파일에서 특징 값 추출하기\n",
    "mfcc_data = []\n",
    "\n",
    "for data in dataset:\n",
    "    audio_mfcc = librosa.feature.mfcc(y = data[0], sr = data[1])\n",
    "    mfcc_data.append(audio_mfcc.reshape(-1))"
   ]
  },
  {
   "cell_type": "code",
   "execution_count": 4,
   "metadata": {},
   "outputs": [],
   "source": [
    "# 75% 학습 데이터, 25% 테스트 데이터\n",
    "x = mfcc_data\n",
    "y = label\n",
    "\n",
    "x_train, x_test, y_train, y_test = train_test_split(x, y, test_size = 0.1, random_state = 42)"
   ]
  },
  {
   "cell_type": "code",
   "execution_count": null,
   "metadata": {},
   "outputs": [],
   "source": [
    "# GridSearchCV 사용하여 파라미터 설정하기\n",
    "# SVC 사용하여 학습하기\n",
    "parameters = {'kernel':['linear'], 'C':[50], 'gamma':['scale']}\n",
    "svc = SVC()\n",
    "clf = GridSearchCV(svc, parameters, cv = 5)\n",
    "clf.fit(x_train, y_train)"
   ]
  },
  {
   "cell_type": "code",
   "execution_count": 12,
   "metadata": {},
   "outputs": [
    {
     "data": {
      "text/plain": [
       "{'C': 30, 'gamma': 'scale', 'kernel': 'rbf'}"
      ]
     },
     "execution_count": 12,
     "metadata": {},
     "output_type": "execute_result"
    }
   ],
   "source": [
    "clf.best_params_"
   ]
  },
  {
   "cell_type": "code",
   "execution_count": 13,
   "metadata": {},
   "outputs": [
    {
     "data": {
      "text/plain": [
       "0.6961325966850829"
      ]
     },
     "execution_count": 13,
     "metadata": {},
     "output_type": "execute_result"
    }
   ],
   "source": [
    "# 테스트하기\n",
    "y_predict = clf.predict(x_test)\n",
    "accuracy_score(y_test, y_predict)"
   ]
  },
  {
   "cell_type": "code",
   "execution_count": 8,
   "metadata": {},
   "outputs": [
    {
     "data": {
      "text/plain": [
       "['saved_model2.pkl']"
      ]
     },
     "execution_count": 8,
     "metadata": {},
     "output_type": "execute_result"
    }
   ],
   "source": [
    "# 모델 저장하기\n",
    "joblib.dump(clf, 'saved_model.pkl')"
   ]
  },
  {
   "cell_type": "code",
   "execution_count": null,
   "metadata": {},
   "outputs": [],
   "source": []
  }
 ],
 "metadata": {
  "kernelspec": {
   "display_name": "Python 3",
   "language": "python",
   "name": "python3"
  },
  "language_info": {
   "codemirror_mode": {
    "name": "ipython",
    "version": 3
   },
   "file_extension": ".py",
   "mimetype": "text/x-python",
   "name": "python",
   "nbconvert_exporter": "python",
   "pygments_lexer": "ipython3",
   "version": "3.7.6"
  }
 },
 "nbformat": 4,
 "nbformat_minor": 4
}
