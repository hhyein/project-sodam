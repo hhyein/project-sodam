{
 "cells": [
  {
   "cell_type": "markdown",
   "metadata": {},
   "source": [
    "### 라이브러리 설치"
   ]
  },
  {
   "cell_type": "code",
   "execution_count": 1,
   "metadata": {
    "scrolled": true
   },
   "outputs": [
    {
     "name": "stdout",
     "output_type": "stream",
     "text": [
      "Requirement already satisfied: librosa in c:\\users\\honghyein\\anaconda3\\lib\\site-packages (0.8.0)\n",
      "Requirement already satisfied: pooch>=1.0 in c:\\users\\honghyein\\anaconda3\\lib\\site-packages (from librosa) (1.2.0)\n",
      "Requirement already satisfied: joblib>=0.14 in c:\\users\\honghyein\\anaconda3\\lib\\site-packages (from librosa) (0.14.1)\n",
      "Requirement already satisfied: audioread>=2.0.0 in c:\\users\\honghyein\\anaconda3\\lib\\site-packages (from librosa) (2.1.9)\n",
      "Requirement already satisfied: numpy>=1.15.0 in c:\\users\\honghyein\\anaconda3\\lib\\site-packages (from librosa) (1.17.0)\n",
      "Requirement already satisfied: resampy>=0.2.2 in c:\\users\\honghyein\\anaconda3\\lib\\site-packages (from librosa) (0.2.2)\n",
      "Requirement already satisfied: scipy>=1.0.0 in c:\\users\\honghyein\\anaconda3\\lib\\site-packages (from librosa) (1.4.1)\n",
      "Requirement already satisfied: decorator>=3.0.0 in c:\\users\\honghyein\\anaconda3\\lib\\site-packages (from librosa) (4.4.1)\n",
      "Requirement already satisfied: scikit-learn!=0.19.0,>=0.14.0 in c:\\users\\honghyein\\anaconda3\\lib\\site-packages (from librosa) (0.22.1)\n",
      "Requirement already satisfied: soundfile>=0.9.0 in c:\\users\\honghyein\\anaconda3\\lib\\site-packages (from librosa) (0.10.3.post1)\n",
      "Requirement already satisfied: numba>=0.43.0 in c:\\users\\honghyein\\anaconda3\\lib\\site-packages (from librosa) (0.48.0)\n",
      "Requirement already satisfied: appdirs in c:\\users\\honghyein\\anaconda3\\lib\\site-packages (from pooch>=1.0->librosa) (1.4.4)\n",
      "Requirement already satisfied: requests in c:\\users\\honghyein\\anaconda3\\lib\\site-packages (from pooch>=1.0->librosa) (2.23.0)\n",
      "Requirement already satisfied: packaging in c:\\users\\honghyein\\anaconda3\\lib\\site-packages (from pooch>=1.0->librosa) (20.1)\n",
      "Requirement already satisfied: six>=1.3 in c:\\users\\honghyein\\anaconda3\\lib\\site-packages (from resampy>=0.2.2->librosa) (1.15.0)\n",
      "Requirement already satisfied: cffi>=1.0 in c:\\users\\honghyein\\anaconda3\\lib\\site-packages (from soundfile>=0.9.0->librosa) (1.14.0)\n",
      "Requirement already satisfied: llvmlite<0.32.0,>=0.31.0dev0 in c:\\users\\honghyein\\anaconda3\\lib\\site-packages (from numba>=0.43.0->librosa) (0.31.0)\n",
      "Requirement already satisfied: setuptools in c:\\users\\honghyein\\anaconda3\\lib\\site-packages (from numba>=0.43.0->librosa) (46.4.0)\n",
      "Requirement already satisfied: certifi>=2017.4.17 in c:\\users\\honghyein\\anaconda3\\lib\\site-packages (from requests->pooch>=1.0->librosa) (2020.4.5.1)\n",
      "Requirement already satisfied: urllib3!=1.25.0,!=1.25.1,<1.26,>=1.21.1 in c:\\users\\honghyein\\anaconda3\\lib\\site-packages (from requests->pooch>=1.0->librosa) (1.25.9)\n",
      "Requirement already satisfied: chardet<4,>=3.0.2 in c:\\users\\honghyein\\anaconda3\\lib\\site-packages (from requests->pooch>=1.0->librosa) (3.0.4)\n",
      "Requirement already satisfied: idna<3,>=2.5 in c:\\users\\honghyein\\anaconda3\\lib\\site-packages (from requests->pooch>=1.0->librosa) (2.9)\n",
      "Requirement already satisfied: pyparsing>=2.0.2 in c:\\users\\honghyein\\anaconda3\\lib\\site-packages (from packaging->pooch>=1.0->librosa) (2.4.6)\n",
      "Requirement already satisfied: pycparser in c:\\users\\honghyein\\anaconda3\\lib\\site-packages (from cffi>=1.0->soundfile>=0.9.0->librosa) (2.19)\n",
      "Note: you may need to restart the kernel to use updated packages.\n"
     ]
    }
   ],
   "source": [
    "pip install librosa"
   ]
  },
  {
   "cell_type": "code",
   "execution_count": 2,
   "metadata": {},
   "outputs": [
    {
     "name": "stdout",
     "output_type": "stream",
     "text": [
      "Requirement already satisfied: imutils in c:\\users\\honghyein\\anaconda3\\lib\\site-packages (0.5.3)\n",
      "Note: you may need to restart the kernel to use updated packages.\n"
     ]
    }
   ],
   "source": [
    "pip install imutils"
   ]
  },
  {
   "cell_type": "code",
   "execution_count": 3,
   "metadata": {},
   "outputs": [
    {
     "name": "stdout",
     "output_type": "stream",
     "text": [
      "Requirement already satisfied: opencv-python in c:\\users\\honghyein\\anaconda3\\lib\\site-packages (4.4.0.46)\n",
      "Requirement already satisfied: numpy>=1.14.5 in c:\\users\\honghyein\\anaconda3\\lib\\site-packages (from opencv-python) (1.17.0)\n",
      "Note: you may need to restart the kernel to use updated packages.\n"
     ]
    }
   ],
   "source": [
    "pip install opencv-python"
   ]
  },
  {
   "cell_type": "code",
   "execution_count": 4,
   "metadata": {},
   "outputs": [
    {
     "name": "stdout",
     "output_type": "stream",
     "text": [
      "Requirement already satisfied: sklearn in c:\\users\\honghyein\\anaconda3\\lib\\site-packages (0.0)\n",
      "Requirement already satisfied: scikit-learn in c:\\users\\honghyein\\anaconda3\\lib\\site-packages (from sklearn) (0.22.1)\n",
      "Requirement already satisfied: scipy>=0.17.0 in c:\\users\\honghyein\\anaconda3\\lib\\site-packages (from scikit-learn->sklearn) (1.4.1)\n",
      "Requirement already satisfied: numpy>=1.11.0 in c:\\users\\honghyein\\anaconda3\\lib\\site-packages (from scikit-learn->sklearn) (1.17.0)\n",
      "Requirement already satisfied: joblib>=0.11 in c:\\users\\honghyein\\anaconda3\\lib\\site-packages (from scikit-learn->sklearn) (0.14.1)\n",
      "Note: you may need to restart the kernel to use updated packages.\n"
     ]
    }
   ],
   "source": [
    "pip install sklearn"
   ]
  },
  {
   "cell_type": "markdown",
   "metadata": {},
   "source": [
    "### 라이브러리 import"
   ]
  },
  {
   "cell_type": "code",
   "execution_count": 3,
   "metadata": {},
   "outputs": [
    {
     "name": "stderr",
     "output_type": "stream",
     "text": [
      "C:\\Users\\HONGHYEIN\\Anaconda3\\lib\\site-packages\\sklearn\\externals\\joblib\\__init__.py:15: FutureWarning: sklearn.externals.joblib is deprecated in 0.21 and will be removed in 0.23. Please import this functionality directly from joblib, which can be installed with: pip install joblib. If this warning is raised when loading pickled models, you may need to re-serialize those models with scikit-learn 0.21+.\n",
      "  warnings.warn(msg, category=FutureWarning)\n"
     ]
    }
   ],
   "source": [
    "from sklearn.model_selection import train_test_split \n",
    "from sklearn.model_selection import GridSearchCV\n",
    "from sklearn.mixture import GaussianMixture\n",
    "from sklearn.metrics import accuracy_score\n",
    "from sklearn.externals import joblib\n",
    "from sklearn.svm import SVC\n",
    "from imutils import paths\n",
    "\n",
    "import matplotlib.pyplot as plt\n",
    "import soundfile as sf\n",
    "import librosa\n",
    "import wave, array\n",
    "import numpy as np\n",
    "import pandas as pd\n",
    "import pickle\n",
    "import json\n",
    "import sys\n",
    "import os\n",
    "\n",
    "import warnings\n",
    "warnings.filterwarnings('ignore')"
   ]
  },
  {
   "cell_type": "markdown",
   "metadata": {},
   "source": [
    "### 코딩 시작"
   ]
  },
  {
   "cell_type": "code",
   "execution_count": 4,
   "metadata": {},
   "outputs": [],
   "source": [
    "def get_result(y, sr):\n",
    "    clf_load = joblib.load('saved_model.pkl') \n",
    "    audio_mfcc = librosa.feature.mfcc(y = y, sr = sr)\n",
    "    x_test = audio_mfcc.reshape(-1)\n",
    "    return clf_load.predict([x_test])[0]"
   ]
  },
  {
   "cell_type": "code",
   "execution_count": 5,
   "metadata": {},
   "outputs": [],
   "source": [
    "# json 데이터 불러오기\n",
    "file = 'json 파일 경로'\n",
    "with open(file, \"r\", encoding = \"utf-8\") as json_file:\n",
    "    json_data = json.load(json_file)\n",
    "\n",
    "# 음성 파일 불러오기\n",
    "file = '음성 파일 경로'\n",
    "y, sr = librosa.load(file, sr = 16000)\n",
    "\n",
    "# 화자 수 설정하기\n",
    "speakers = json_data['speakers']"
   ]
  },
  {
   "cell_type": "code",
   "execution_count": 6,
   "metadata": {},
   "outputs": [],
   "source": [
    "# json 파일 사용하여 화자 분할하기\n",
    "spk = []\n",
    "spk_cnt = []\n",
    "\n",
    "for i in range(0, speakers):\n",
    "    spk.append([])\n",
    "    spk_cnt.append(0)\n",
    "\n",
    "for i in range(0, len(json_data['result'])):\n",
    "    start_time = float(json_data['result'][i]['start_time'])\n",
    "    end_time = float(json_data['result'][i]['end_time'])\n",
    "    \n",
    "    cutted_y = y[int(start_time)*16000:int(end_time)*16000]\n",
    "    \n",
    "    if json_data['result'][i]['speaker_label'] == 'spk_0':\n",
    "        spk[0].append([cutted_y, sr])\n",
    "        spk_cnt[0] += 1\n",
    "        \n",
    "    if json_data['result'][i]['speaker_label'] == 'spk_1':\n",
    "        spk[1].append([cutted_y, sr])\n",
    "        spk_cnt[1] += 1"
   ]
  },
  {
   "cell_type": "code",
   "execution_count": 7,
   "metadata": {},
   "outputs": [],
   "source": [
    "# 화자마다 음성 파일 1초씩 자르기\n",
    "# 음성 파일 테스트하기\n",
    "emotion = []\n",
    "total_duration = []\n",
    "\n",
    "for i in range(0, speakers):\n",
    "    emotion.append([])\n",
    "    total_duration.append(0)\n",
    "\n",
    "k = 0\n",
    "while k < speakers:\n",
    "    for i in range(0, spk_cnt[k]):\n",
    "        duration = int(librosa.get_duration(spk[k][i][0], sr))\n",
    "        total_duration[k] += duration\n",
    "        for j in range(0, duration):\n",
    "            cutted_y = spk[k][i][0][j*16000:(j+1)*16000]\n",
    "            emotion[k].append(get_result(cutted_y, 16000))\n",
    "    k += 1"
   ]
  },
  {
   "cell_type": "code",
   "execution_count": 8,
   "metadata": {},
   "outputs": [],
   "source": [
    "# 테스트 결과 가공하기\n",
    "emotion_count =[]\n",
    "\n",
    "for i in range(0, speakers):\n",
    "    emotion_count.append({'happiness':0, 'neutral':0, 'sadness':0, 'anger':0, 'time':total_duration[i]})\n",
    "\n",
    "k = 0\n",
    "while k < speakers:\n",
    "    for i in emotion[k]:\n",
    "        try: emotion_count[k][i]+= 1\n",
    "        except: emotion_count[k][i] = 1\n",
    "    k += 1"
   ]
  },
  {
   "cell_type": "code",
   "execution_count": 9,
   "metadata": {},
   "outputs": [],
   "source": [
    "# 테스트 결과 CSV 파일로 저장하기\n",
    "result_dict = {}\n",
    "\n",
    "for i in range(0, speakers):\n",
    "    spk_id = \"spk_\" + str(i)  \n",
    "    temp_dict = {}\n",
    "    temp_key = list(emotion_count[i].keys())\n",
    "    temp_value = list(emotion_count[i].values())\n",
    "    for j in range(0, 5):    \n",
    "        temp_dict[temp_key[j]] = temp_value[j]\n",
    "        result_dict[spk_id] = temp_dict\n",
    "\n",
    "df = pd.DataFrame(result_dict).T\n",
    "df.to_csv('csv 파일 경로')"
   ]
  },
  {
   "cell_type": "code",
   "execution_count": null,
   "metadata": {},
   "outputs": [],
   "source": []
  }
 ],
 "metadata": {
  "kernelspec": {
   "display_name": "Python 3",
   "language": "python",
   "name": "python3"
  },
  "language_info": {
   "codemirror_mode": {
    "name": "ipython",
    "version": 3
   },
   "file_extension": ".py",
   "mimetype": "text/x-python",
   "name": "python",
   "nbconvert_exporter": "python",
   "pygments_lexer": "ipython3",
   "version": "3.7.6"
  }
 },
 "nbformat": 4,
 "nbformat_minor": 4
}
